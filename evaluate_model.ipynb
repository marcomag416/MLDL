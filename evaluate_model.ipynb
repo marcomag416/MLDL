{
  "nbformat": 4,
  "nbformat_minor": 0,
  "metadata": {
    "colab": {
      "provenance": [],
      "gpuType": "T4",
      "authorship_tag": "ABX9TyO3MK/G4P88i9XEShEcwSnh",
      "include_colab_link": true
    },
    "kernelspec": {
      "name": "python3",
      "display_name": "Python 3"
    },
    "language_info": {
      "name": "python"
    },
    "accelerator": "GPU"
  },
  "cells": [
    {
      "cell_type": "markdown",
      "metadata": {
        "id": "view-in-github",
        "colab_type": "text"
      },
      "source": [
        "<a href=\"https://colab.research.google.com/github/marcomag416/MLDL/blob/main/evaluate_model.ipynb\" target=\"_parent\"><img src=\"https://colab.research.google.com/assets/colab-badge.svg\" alt=\"Open In Colab\"/></a>"
      ]
    },
    {
      "cell_type": "code",
      "execution_count": 1,
      "metadata": {
        "id": "ZwxT5xz-vRVE"
      },
      "outputs": [],
      "source": [
        "import os\n",
        "import pandas as pd\n",
        "from PIL import Image\n",
        "import sys\n",
        "import requests\n",
        "from zipfile import ZipFile\n",
        "from io import BytesIO"
      ]
    },
    {
      "cell_type": "code",
      "source": [
        "#download and extract project repository\n",
        "\n",
        "url= \"https://github.com/marcomag416/MLDL/archive/refs/heads/main.zip\"\n",
        "\n",
        "# Send a GET request to the URL\n",
        "response = requests.get(url)\n",
        "# Check if the request was successful\n",
        "if response.status_code == 200:\n",
        "    #print(response.content)\n",
        "    # Open the downloaded bytes and extract them\n",
        "    with ZipFile(BytesIO(response.content)) as zip_file:\n",
        "        zip_file.extractall('./')\n",
        "    print('Download and extraction complete!')\n",
        "\n",
        "sys.path.insert(0, './MLDL-main')"
      ],
      "metadata": {
        "colab": {
          "base_uri": "https://localhost:8080/"
        },
        "id": "q_j0uQ-gvbbS",
        "outputId": "123d88b9-a8c6-4a3b-ffe5-0a2b7bd8b99f"
      },
      "execution_count": 2,
      "outputs": [
        {
          "output_type": "stream",
          "name": "stdout",
          "text": [
            "Download and extraction complete!\n"
          ]
        }
      ]
    },
    {
      "cell_type": "code",
      "source": [
        "#download cityscapes dataset\n",
        "from google.colab import drive\n",
        "drive.mount('/content/drive')\n",
        "\n",
        "cityscape_dataset_path = \"./dataset/Cityscapes/Cityspaces\"\n",
        "\n",
        "#extract zip file\n",
        "if not os.path.exists(cityscape_dataset_path):\n",
        "  print(\"Extracting dataset...\")\n",
        "  with ZipFile(\"/content/drive/MyDrive/Colab Notebooks/dataset/Cityscapes.zip\", 'r') as zip_ref:\n",
        "    zip_ref.extractall(\"./dataset\")\n",
        "\n"
      ],
      "metadata": {
        "colab": {
          "base_uri": "https://localhost:8080/"
        },
        "id": "EpPveMy9vhUi",
        "outputId": "3d843a1d-8e47-40b0-a519-84816dc518b0"
      },
      "execution_count": 3,
      "outputs": [
        {
          "output_type": "stream",
          "name": "stdout",
          "text": [
            "Mounted at /content/drive\n",
            "Extracting dataset...\n"
          ]
        }
      ]
    },
    {
      "cell_type": "markdown",
      "source": [
        "# Evaluation\n"
      ],
      "metadata": {
        "id": "v7Zg3qkTvkWD"
      }
    },
    {
      "cell_type": "code",
      "source": [
        "#import from packages\n",
        "import numpy as np\n",
        "import torch\n",
        "from torch.utils.data import Dataset, DataLoader\n",
        "import torchvision.transforms as T\n",
        "import albumentations as A\n",
        "from albumentations.pytorch import ToTensorV2\n",
        "from torch import nn\n",
        "\n",
        "#other imports\n",
        "from models.bisenet.build_bisenet import BiSeNet\n",
        "\n",
        "# Setup device agnostic code\n",
        "device = \"cuda\" if torch.cuda.is_available() else \"cpu\"\n"
      ],
      "metadata": {
        "id": "me2eaty3vmnr"
      },
      "execution_count": 4,
      "outputs": []
    },
    {
      "cell_type": "markdown",
      "source": [
        "## Dataset"
      ],
      "metadata": {
        "id": "JBRljnfwwAUF"
      }
    },
    {
      "cell_type": "code",
      "source": [
        "class Cityscapes(Dataset):\n",
        "    def __init__(self, root_dir, split, transforms=None, label_type='gtFine_labelTrainIds'):\n",
        "        self.root_dir = root_dir\n",
        "        self.split = split\n",
        "        self.transforms = transforms\n",
        "        self.label_type = label_type\n",
        "\n",
        "        self.images_dir = f\"{root_dir}/images/{split}\"\n",
        "        self.labels_dir = f\"{root_dir}/gtFine/{split}\"\n",
        "\n",
        "        self.image_paths = []\n",
        "        self.label_paths = []\n",
        "\n",
        "        # Manually iterate over directories\n",
        "        cities = [city for city in os.listdir(self.images_dir) if os.path.isdir(f\"{self.images_dir}/{city}\")]\n",
        "        for city in cities:\n",
        "            img_dir_city = f\"{self.images_dir}/{city}\"\n",
        "            lbl_dir_city = f\"{self.labels_dir}/{city}\"\n",
        "\n",
        "            if not os.path.isdir(img_dir_city) or not os.path.isdir(lbl_dir_city):\n",
        "                continue\n",
        "\n",
        "            for img_file in os.listdir(img_dir_city):\n",
        "                if img_file.endswith('_leftImg8bit.png'):\n",
        "                    img_path = f\"{img_dir_city}/{img_file}\"\n",
        "                    lbl_file = img_file.replace('_leftImg8bit.png', f'_{self.label_type}.png')\n",
        "                    lbl_path = f\"{lbl_dir_city}/{lbl_file}\"\n",
        "\n",
        "                    if os.path.isfile(img_path) and os.path.isfile(lbl_path):\n",
        "                        self.image_paths.append(img_path)\n",
        "                        self.label_paths.append(lbl_path)\n",
        "                    else:\n",
        "                        print(f\"Warning: Image or label file not found for {img_file}\")\n",
        "\n",
        "    def __len__(self):\n",
        "        return len(self.image_paths)\n",
        "\n",
        "    def __getitem__(self, idx):\n",
        "        img_path = self.image_paths[idx]\n",
        "        lbl_path = self.label_paths[idx]\n",
        "\n",
        "        image = Image.open(img_path).convert('RGB')\n",
        "        label = Image.open(lbl_path)\n",
        "\n",
        "        image = np.array(image)\n",
        "        label = np.array(label)\n",
        "\n",
        "        if self.transforms:\n",
        "            augmented = self.transforms(image=image, mask=label)\n",
        "            image, label = augmented['image'], augmented['mask']\n",
        "\n",
        "        return image, label\n",
        "\n",
        "\n",
        "# Example usage\n",
        "image_transforms = A.Compose([\n",
        "    A.Resize(512, 1024),\n",
        "    A.Normalize(mean=(0.485, 0.456, 0.406), std=(0.229, 0.224, 0.225)),\n",
        "    ToTensorV2()\n",
        "])\n",
        "\n",
        "city_dataset_val = Cityscapes(root_dir=cityscape_dataset_path, split='val', transforms=image_transforms)\n",
        "\n",
        "print(f\"Cityscapes_Dataset_val size: {len(city_dataset_val)}\")"
      ],
      "metadata": {
        "colab": {
          "base_uri": "https://localhost:8080/"
        },
        "id": "HZ3NxO2_vu2m",
        "outputId": "a781ccfa-db7a-4497-9082-2977d2ff017f"
      },
      "execution_count": 5,
      "outputs": [
        {
          "output_type": "stream",
          "name": "stdout",
          "text": [
            "Cityscapes_Dataset_val size: 500\n"
          ]
        }
      ]
    },
    {
      "cell_type": "markdown",
      "source": [
        "## Test function"
      ],
      "metadata": {
        "id": "a-ng_mL8wJoh"
      }
    },
    {
      "cell_type": "code",
      "source": [
        "def compute_iou(pred, target, num_classes):\n",
        "    ious = []\n",
        "    pred = pred.view(-1)\n",
        "    target = target.view(-1)\n",
        "\n",
        "    for cls in range(num_classes):\n",
        "        pred_inds = (pred == cls)\n",
        "        target_inds = (target == cls)\n",
        "        intersection = (pred_inds[target_inds]).sum().item()\n",
        "        union = pred_inds.sum().item() + target_inds.sum().item() - intersection\n",
        "        if union == 0:\n",
        "            ious.append(float('nan'))  # If there is no union, set IoU to NaN\n",
        "        else:\n",
        "            ious.append(intersection / union)\n",
        "\n",
        "    return np.array(ious)\n",
        "\n",
        "def eval(model, dataloader, loss_fn, device, num_classes=19):\n",
        "    model.eval()  # Set the model to evaluation mode\n",
        "    test_loss = 0.0\n",
        "    total = 0\n",
        "    all_ious = []  # List to store IoUs for each batch\n",
        "\n",
        "    with torch.no_grad():  # Disable gradient calculation during inference\n",
        "        for inputs_test, targets_test in dataloader:\n",
        "            inputs_test, targets_test = inputs_test.to(device), targets_test.to(device, dtype=torch.long)\n",
        "\n",
        "            outputs_test = model(inputs_test)  # Forward pass\n",
        "            loss = loss_fn(outputs_test, targets_test)  # Calculate the loss\n",
        "\n",
        "            test_loss += loss.item() * inputs_test.size(0)  # Accumulate the total loss\n",
        "            _, predicted_test = outputs_test.max(1)\n",
        "            total += targets_test.size(0)\n",
        "\n",
        "            # Compute IoU for this batch\n",
        "            batch_ious = compute_iou(predicted_test, targets_test, num_classes)\n",
        "            all_ious.append(batch_ious)\n",
        "\n",
        "    # Calculate average loss\n",
        "    avg_loss = test_loss / total\n",
        "\n",
        "    # Calculate mean IoU\n",
        "    all_ious = np.array(all_ious)\n",
        "    mean_iou = np.nanmean(all_ious, axis=0)  # Mean IoU for each class\n",
        "    miou = np.nanmean(mean_iou)  # Mean IoU across all classes\n",
        "\n",
        "    return avg_loss, miou, mean_iou"
      ],
      "metadata": {
        "id": "aVmnIXXHv-TS"
      },
      "execution_count": 6,
      "outputs": []
    },
    {
      "cell_type": "markdown",
      "source": [
        "## create model and load weights"
      ],
      "metadata": {
        "id": "BV6pV83jwMWQ"
      }
    },
    {
      "cell_type": "code",
      "source": [
        "pretrained_weights_paths = [\n",
        "    \"./drive/MyDrive/Colab Notebooks/model_weights/bisenet_gta/gaussian_jitter_epoch19.pth\",\n",
        "    \"./drive/MyDrive/Colab Notebooks/model_weights/bisenet_gta/gaussian_jitter_epoch24.pth\",\n",
        "    \"./drive/MyDrive/Colab Notebooks/model_weights/bisenet_gta/no_transform_epoch19.pth\",\n",
        "    \"./drive/MyDrive/Colab Notebooks/model_weights/bisenet_gta/guassian_horizFlip_epoch9.pth\",\n",
        "    \"./drive/MyDrive/Colab Notebooks/model_weights/bisenet_gta/guassian_horizFlip_epoch34.pth\",\n",
        "    \"./drive/MyDrive/Colab Notebooks/model_weights/domain_adaptation_right/pretrained19_shallow_paper_step2099.pth\",\n",
        "    \"./drive/MyDrive/Colab Notebooks/model_weights/domain_adaptation_right/pretrained19_paper_step3999.pth\",\n",
        "]"
      ],
      "metadata": {
        "id": "uwozfm9vwjPT"
      },
      "execution_count": 7,
      "outputs": []
    },
    {
      "cell_type": "code",
      "source": [
        "# Set CUDA_LAUNCH_BLOCKING environment variable\n",
        "os.environ['CUDA_LAUNCH_BLOCKING']=\"1\"\n",
        "os.environ['TORCH_USE_CUDA_DSA'] = \"1\"\n",
        "\n",
        "context_path = 'resnet18'\n",
        "\n",
        "city_dataloader_val = DataLoader(city_dataset_val, batch_size=8, shuffle=False, num_workers=4)\n",
        "\n",
        "# Initialize the model\n",
        "model = BiSeNet(num_classes=19, context_path=context_path).to(device)\n",
        "seg_loss_fn = nn.CrossEntropyLoss(ignore_index=255)\n",
        "\n"
      ],
      "metadata": {
        "id": "Edwapp-nwUUO",
        "outputId": "aa8c1ffa-4385-454e-8c70-c62ca39f406d",
        "colab": {
          "base_uri": "https://localhost:8080/"
        }
      },
      "execution_count": 8,
      "outputs": [
        {
          "output_type": "stream",
          "name": "stderr",
          "text": [
            "Downloading: \"https://download.pytorch.org/models/resnet18-f37072fd.pth\" to /root/.cache/torch/hub/checkpoints/resnet18-f37072fd.pth\n",
            "100%|██████████| 44.7M/44.7M [00:00<00:00, 173MB/s]\n",
            "Downloading: \"https://download.pytorch.org/models/resnet101-63fe2227.pth\" to /root/.cache/torch/hub/checkpoints/resnet101-63fe2227.pth\n",
            "100%|██████████| 171M/171M [00:01<00:00, 92.6MB/s]\n"
          ]
        }
      ]
    },
    {
      "cell_type": "code",
      "source": [
        "for pretrained_weights_path in pretrained_weights_paths:\n",
        "  model.load_state_dict(torch.load(pretrained_weights_path, map_location=torch.device(device)))\n",
        "\n",
        "  avg_loss, miou, IoUs = eval(model, city_dataloader_val, seg_loss_fn, device=device)\n",
        "  print(f\"Weight path: {pretrained_weights_path}, Loss: {avg_loss}, mIoU: {miou*100:.2f}%\")\n",
        "  print(f\"\\t IoU per class: {IoUs}\\n\")"
      ],
      "metadata": {
        "colab": {
          "base_uri": "https://localhost:8080/"
        },
        "id": "gXzM6L94wqYU",
        "outputId": "a20224c6-1611-415a-8424-4a38ac2ed9b2"
      },
      "execution_count": 9,
      "outputs": [
        {
          "output_type": "stream",
          "name": "stdout",
          "text": [
            "Weight path: ./drive/MyDrive/Colab Notebooks/model_weights/bisenet_gta/gaussian_jitter_epoch19.pth, Loss: 0.9514270610809327, mIoU: 22.76%\n",
            "\t IoU per class: [0.64938667 0.05528171 0.63537795 0.093507   0.08048576 0.17290462\n",
            " 0.12822551 0.03756267 0.75062853 0.17082393 0.62084863 0.21945976\n",
            " 0.00282181 0.62840024 0.06023732 0.         0.00092337 0.01177182\n",
            " 0.00524737]\n",
            "\n",
            "Weight path: ./drive/MyDrive/Colab Notebooks/model_weights/bisenet_gta/gaussian_jitter_epoch24.pth, Loss: 1.0272702436447143, mIoU: 20.50%\n",
            "\t IoU per class: [6.17880781e-01 1.33314043e-01 5.52801540e-01 9.33224893e-02\n",
            " 9.18102062e-02 9.27035285e-02 6.42167175e-02 3.86552210e-02\n",
            " 7.47825724e-01 1.45570470e-01 6.52817615e-01 1.17293114e-01\n",
            " 4.07029042e-04 4.88401180e-01 4.12332670e-02 1.38863429e-02\n",
            " 0.00000000e+00 2.20502069e-03 0.00000000e+00]\n",
            "\n",
            "Weight path: ./drive/MyDrive/Colab Notebooks/model_weights/bisenet_gta/no_transform_epoch19.pth, Loss: 1.623073085784912, mIoU: 16.74%\n",
            "\t IoU per class: [0.3994889  0.01977984 0.50133252 0.03644233 0.03762509 0.16017012\n",
            " 0.0739691  0.02973256 0.69669606 0.09044147 0.53634855 0.22181137\n",
            " 0.02313591 0.31021897 0.01967487 0.01177456 0.01106219 0.00157105\n",
            " 0.        ]\n",
            "\n",
            "Weight path: ./drive/MyDrive/Colab Notebooks/model_weights/bisenet_gta/guassian_horizFlip_epoch9.pth, Loss: 1.5048640365600585, mIoU: 17.08%\n",
            "\t IoU per class: [0.36990765 0.01945222 0.57056911 0.05041918 0.05816153 0.134763\n",
            " 0.06447084 0.02295687 0.68136411 0.02414282 0.55708488 0.24374207\n",
            " 0.00960464 0.38825457 0.03057762 0.00532845 0.         0.01497034\n",
            " 0.        ]\n",
            "\n",
            "Weight path: ./drive/MyDrive/Colab Notebooks/model_weights/bisenet_gta/guassian_horizFlip_epoch34.pth, Loss: 2.0130106391906737, mIoU: 18.57%\n",
            "\t IoU per class: [3.20740718e-01 1.34793821e-02 6.05904424e-01 5.37781525e-02\n",
            " 9.29323793e-02 1.50131865e-01 1.24708675e-01 5.05356606e-02\n",
            " 6.84697594e-01 2.96939050e-02 6.12928323e-01 2.87066334e-01\n",
            " 1.79056850e-02 4.33612670e-01 2.64975000e-02 2.68458203e-04\n",
            " 0.00000000e+00 2.41831060e-02 8.09577472e-05]\n",
            "\n",
            "Weight path: ./drive/MyDrive/Colab Notebooks/model_weights/domain_adaptation_right/pretrained19_shallow_paper_step2099.pth, Loss: 0.7144544239044189, mIoU: 23.39%\n",
            "\t IoU per class: [0.66430363 0.21225499 0.69018847 0.04032897 0.06729021 0.15796256\n",
            " 0.11637379 0.00271393 0.71347106 0.14841596 0.667078   0.14775271\n",
            " 0.01523794 0.69194312 0.05936437 0.02232447 0.00674584 0.01551221\n",
            " 0.00525545]\n",
            "\n",
            "Weight path: ./drive/MyDrive/Colab Notebooks/model_weights/domain_adaptation_right/pretrained19_paper_step3999.pth, Loss: 0.6703361525535584, mIoU: 25.37%\n",
            "\t IoU per class: [0.697109   0.23709752 0.69705396 0.06823385 0.08180683 0.18827933\n",
            " 0.11326332 0.0227966  0.7314174  0.1813205  0.695942   0.18642168\n",
            " 0.05193692 0.67857601 0.07337532 0.01183539 0.00347665 0.05296719\n",
            " 0.04687408]\n",
            "\n"
          ]
        }
      ]
    }
  ]
}